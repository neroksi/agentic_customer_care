{
 "cells": [
  {
   "cell_type": "markdown",
   "id": "a87bc0da",
   "metadata": {},
   "source": [
    "<img src=\"docs/dallee_intellicart_inc.webp\" width=\"100%\" height=\"700rem\" alt=\"AI Powered E-Commerce\"></img>"
   ]
  },
  {
   "cell_type": "markdown",
   "id": "2559fb66-d386-47c7-81e0-6a84e2bfe081",
   "metadata": {},
   "source": [
    "## Introduction"
   ]
  },
  {
   "cell_type": "markdown",
   "id": "66621494",
   "metadata": {},
   "source": [
    "Imagine an e-commerce company, `IntelliCart Inc.`, running a successful online shop where customers order products, triggering a chain of deliveries. While some deliveries go off smoothly, others might encounter issues, leading to customer inquiries. On top of that, users may raise tickets for claims that need prompt and efficient resolution. This scenario mirrors the **real-world** challenges of managing customer service in a thriving e-commerce business, touching on multiple facets of operations, from order handling to post-delivery support.\n",
    "\n",
    "Let’s consider a typical customer message that demands a response:  \n",
    "\n",
    "___  \n",
    "*Hello,*  \n",
    "\n",
    "*Thanks for the quick delivery. Could you please send me my last order total cost?*  \n",
    "\n",
    "*Regards,*  \n",
    "*John*  \n",
    "___  \n",
    "\n",
    "Addressing this request isn't as straightforward as it seems. To respond effectively, we need to:  \n",
    "- Analyze and accurately interpret the intent behind the customer’s message.  \n",
    "- Query the database to fetch the relevant details (e.g., the total cost of the last order).  \n",
    "- Craft a clear, friendly, and satisfactory reply.  \n",
    "\n",
    "This use case is quite realistic and includes different aspects of an e-commerce company's activities. Addressing all this seamlessly requires a robust AI-powered customer care system, that we'll hopefully be building in this tutorial."
   ]
  },
  {
   "cell_type": "markdown",
   "id": "191f0df9",
   "metadata": {},
   "source": [
    "\n",
    "<center>\n",
    "    <div class=\"alert alert-info\" style=\"width: 50%; content: center\">\n",
    "        <span class=\"text-bold text-lg\"><mark>Customer Message</mark></span>\n",
    "        <br><br>\n",
    "        <em>\n",
    "            Hello, \n",
    "            <br><br>\n",
    "            Thanks for the quick delivery. Could you please send me my last order total cost ?\n",
    "            <br><br>\n",
    "            Regards,\n",
    "            <br> \n",
    "            John\n",
    "        </em>\n",
    "    </div>\n",
    "</center>"
   ]
  },
  {
   "cell_type": "markdown",
   "id": "2264250e",
   "metadata": {},
   "source": [
    "## Requirements"
   ]
  },
  {
   "cell_type": "markdown",
   "id": "790eaeae",
   "metadata": {},
   "source": [
    "This tutorial will be using the following packages: ***pandas, pydantic, openai, python-dotenv, jinja2***. You can install any of them using `pip`.\n",
    "\n",
    "For the LLM, any OpenAI API compatible LLM Provider will be just fine.\n",
    "\n",
    "All the datasets used here will be provided to you afterward. These are toy datasets but designed to be as realistic as possible."
   ]
  },
  {
   "cell_type": "markdown",
   "id": "b185e839-5d62-40c6-8bd2-4c88ff3d72c5",
   "metadata": {},
   "source": [
    "## Datasets Presentation"
   ]
  },
  {
   "cell_type": "markdown",
   "id": "cc99e57b",
   "metadata": {},
   "source": [
    "For this use case, we will use the following datasets:\n",
    "\n",
    "___\n",
    "1. **Customers**\n",
    "- **Id**: Unique identifier for the customer\n",
    "- **Name**: Full name of the customer\n",
    "- **eMail**: Email address of the customer\n",
    "- **Country**: Country of the customer\n",
    "___\n",
    "2. **Products**\n",
    "- **Id**: Unique identifier for the product\n",
    "- **Name**: Name of the product\n",
    "- **ShortDescription**: Short description of the product\n",
    "- **Color**: Color of the product\n",
    "- **Size**: Size of the product\n",
    "- **OriginCountry**: Country of origin of the product\n",
    "- **DelivrableCountries**: List of countries where the product can be delivered\n",
    "- **Universe**: Universe of the product (Cloth, Electronics, etc.)\n",
    "___\n",
    "3. **Orders**\n",
    "- **Id**: Unique identifier for the order\n",
    "- **CustomerId**: Foreign key referencing the customer who made the order\n",
    "- **Date**: Date of the order\n",
    "- **CustomerName**: Name of the customer\n",
    "- **CustomerCountry**: Country of the customer\n",
    "___\n",
    "4. **OrderItems**\n",
    "- **Id**: Unique identifier for the order item\n",
    "- **OrderId**: Foreign key referencing the order\n",
    "- **ProductId**: Foreign key referencing the product\n",
    "- **ProductName**: Name of the product\n",
    "- **Quantity**: Quantity of the product in the order\n",
    "- **UnitPrice**: Unit price of the product\n",
    "- **Currency**: Currency of the order\n",
    "___\n",
    "5. **Deliveries**\n",
    "- **Id**: Unique identifier for the delivery\n",
    "- **OrderId**: Foreign key referencing the order\n",
    "- **SentDate**: Date when the order was sent\n",
    "- **PlannedDeliveryDate**: Planned delivery date\n",
    "- **EffectiveDeliveryDate**: Effective delivery date\n",
    "- **AnyDeliveryIssue**: Whether there was any issue with the delivery\n",
    "- **DeliveryCountry**: Country of the delivery\n",
    "___"
   ]
  },
  {
   "cell_type": "markdown",
   "id": "b375a3a9",
   "metadata": {},
   "source": [
    "## Data Loading"
   ]
  },
  {
   "cell_type": "code",
   "execution_count": 1,
   "id": "bbc2b1af",
   "metadata": {},
   "outputs": [],
   "source": [
    "import pandas as pd\n",
    "from pathlib import Path\n",
    "from IPython.display import Markdown as md"
   ]
  },
  {
   "cell_type": "code",
   "execution_count": 2,
   "id": "e6d51e09",
   "metadata": {},
   "outputs": [],
   "source": [
    "excel_crm_data_path = Path(\"../../data/crm_data.xlsx\")"
   ]
  },
  {
   "cell_type": "code",
   "execution_count": 3,
   "id": "d0b45911-838f-41e4-8519-2f33235f47ff",
   "metadata": {},
   "outputs": [],
   "source": [
    "def load_sheet(sheet_name: str, verbose: bool = True) -> pd.DataFrame:\n",
    "    df = pd.read_excel(excel_crm_data_path, sheet_name=sheet_name)\n",
    "\n",
    "    if verbose:\n",
    "        print(f\"{sheet_name} Data Shape: {df.shape}\")\n",
    "        display(df.head())\n",
    "\n",
    "    return df"
   ]
  },
  {
   "cell_type": "code",
   "execution_count": null,
   "id": "13fac1c2",
   "metadata": {},
   "outputs": [],
   "source": []
  },
  {
   "cell_type": "code",
   "execution_count": 4,
   "id": "06106d1c-d390-4e06-a092-5feabca6487e",
   "metadata": {},
   "outputs": [
    {
     "name": "stdout",
     "output_type": "stream",
     "text": [
      "Customers Data Shape: (5, 4)\n"
     ]
    },
    {
     "data": {
      "text/html": [
       "<div>\n",
       "<style scoped>\n",
       "    .dataframe tbody tr th:only-of-type {\n",
       "        vertical-align: middle;\n",
       "    }\n",
       "\n",
       "    .dataframe tbody tr th {\n",
       "        vertical-align: top;\n",
       "    }\n",
       "\n",
       "    .dataframe thead th {\n",
       "        text-align: right;\n",
       "    }\n",
       "</style>\n",
       "<table border=\"1\" class=\"dataframe\">\n",
       "  <thead>\n",
       "    <tr style=\"text-align: right;\">\n",
       "      <th></th>\n",
       "      <th>Id</th>\n",
       "      <th>Name</th>\n",
       "      <th>eMail</th>\n",
       "      <th>Country</th>\n",
       "    </tr>\n",
       "  </thead>\n",
       "  <tbody>\n",
       "    <tr>\n",
       "      <th>0</th>\n",
       "      <td>CLT001</td>\n",
       "      <td>John Doe</td>\n",
       "      <td>john.doe@example.com</td>\n",
       "      <td>France</td>\n",
       "    </tr>\n",
       "    <tr>\n",
       "      <th>1</th>\n",
       "      <td>CLT002</td>\n",
       "      <td>Jane Smith</td>\n",
       "      <td>jane.smith@example.com</td>\n",
       "      <td>USA</td>\n",
       "    </tr>\n",
       "    <tr>\n",
       "      <th>2</th>\n",
       "      <td>CLT003</td>\n",
       "      <td>Alice Johnson</td>\n",
       "      <td>alice.j@example.com</td>\n",
       "      <td>USA</td>\n",
       "    </tr>\n",
       "    <tr>\n",
       "      <th>3</th>\n",
       "      <td>CLT004</td>\n",
       "      <td>Bob Brown</td>\n",
       "      <td>bob.brown@example.com</td>\n",
       "      <td>Spain</td>\n",
       "    </tr>\n",
       "    <tr>\n",
       "      <th>4</th>\n",
       "      <td>CLT005</td>\n",
       "      <td>Charlie Davis</td>\n",
       "      <td>charlie.d@example.com</td>\n",
       "      <td>France</td>\n",
       "    </tr>\n",
       "  </tbody>\n",
       "</table>\n",
       "</div>"
      ],
      "text/plain": [
       "       Id           Name                   eMail Country\n",
       "0  CLT001       John Doe    john.doe@example.com  France\n",
       "1  CLT002     Jane Smith  jane.smith@example.com     USA\n",
       "2  CLT003  Alice Johnson     alice.j@example.com     USA\n",
       "3  CLT004      Bob Brown   bob.brown@example.com   Spain\n",
       "4  CLT005  Charlie Davis   charlie.d@example.com  France"
      ]
     },
     "metadata": {},
     "output_type": "display_data"
    }
   ],
   "source": [
    "customer_df = load_sheet(\"Customers\", verbose=True)"
   ]
  },
  {
   "cell_type": "code",
   "execution_count": 5,
   "id": "af34f8aa-9c71-4ec3-ab7d-232ba1b50a16",
   "metadata": {},
   "outputs": [
    {
     "name": "stdout",
     "output_type": "stream",
     "text": [
      "Products Data Shape: (40, 9)\n"
     ]
    },
    {
     "data": {
      "text/html": [
       "<div>\n",
       "<style scoped>\n",
       "    .dataframe tbody tr th:only-of-type {\n",
       "        vertical-align: middle;\n",
       "    }\n",
       "\n",
       "    .dataframe tbody tr th {\n",
       "        vertical-align: top;\n",
       "    }\n",
       "\n",
       "    .dataframe thead th {\n",
       "        text-align: right;\n",
       "    }\n",
       "</style>\n",
       "<table border=\"1\" class=\"dataframe\">\n",
       "  <thead>\n",
       "    <tr style=\"text-align: right;\">\n",
       "      <th></th>\n",
       "      <th>Id</th>\n",
       "      <th>Name</th>\n",
       "      <th>ShortDescription</th>\n",
       "      <th>Color</th>\n",
       "      <th>Size</th>\n",
       "      <th>OriginCountry</th>\n",
       "      <th>DelivrableCountries</th>\n",
       "      <th>AvgPrice (USD)</th>\n",
       "      <th>Universe</th>\n",
       "    </tr>\n",
       "  </thead>\n",
       "  <tbody>\n",
       "    <tr>\n",
       "      <th>0</th>\n",
       "      <td>PRD001</td>\n",
       "      <td>Classic T-Shirt</td>\n",
       "      <td>Cotton T-shirt with crew neck</td>\n",
       "      <td>White</td>\n",
       "      <td>S, M, L</td>\n",
       "      <td>USA</td>\n",
       "      <td>USA, Canada, Mexico</td>\n",
       "      <td>2</td>\n",
       "      <td>Cloth</td>\n",
       "    </tr>\n",
       "    <tr>\n",
       "      <th>1</th>\n",
       "      <td>PRD002</td>\n",
       "      <td>Skinny Jeans</td>\n",
       "      <td>Denim jeans with slim fit</td>\n",
       "      <td>Blue</td>\n",
       "      <td>28-36</td>\n",
       "      <td>Italy</td>\n",
       "      <td>Europe, USA</td>\n",
       "      <td>2</td>\n",
       "      <td>Cloth</td>\n",
       "    </tr>\n",
       "    <tr>\n",
       "      <th>2</th>\n",
       "      <td>PRD003</td>\n",
       "      <td>Wool Cardigan</td>\n",
       "      <td>Cozy cardigan with button front</td>\n",
       "      <td>Grey</td>\n",
       "      <td>M, L</td>\n",
       "      <td>UK</td>\n",
       "      <td>UK, Ireland, France</td>\n",
       "      <td>2</td>\n",
       "      <td>Cloth</td>\n",
       "    </tr>\n",
       "    <tr>\n",
       "      <th>3</th>\n",
       "      <td>PRD004</td>\n",
       "      <td>Floral Dress</td>\n",
       "      <td>Summer dress with floral prints</td>\n",
       "      <td>Yellow</td>\n",
       "      <td>XS-L</td>\n",
       "      <td>India</td>\n",
       "      <td>Asia, Australia</td>\n",
       "      <td>2</td>\n",
       "      <td>Cloth</td>\n",
       "    </tr>\n",
       "    <tr>\n",
       "      <th>4</th>\n",
       "      <td>PRD005</td>\n",
       "      <td>Leather Jacket</td>\n",
       "      <td>Premium genuine leather jacket</td>\n",
       "      <td>Black</td>\n",
       "      <td>M, L, XL</td>\n",
       "      <td>Pakistan</td>\n",
       "      <td>Worldwide</td>\n",
       "      <td>2</td>\n",
       "      <td>Cloth</td>\n",
       "    </tr>\n",
       "  </tbody>\n",
       "</table>\n",
       "</div>"
      ],
      "text/plain": [
       "       Id             Name                 ShortDescription   Color      Size  \\\n",
       "0  PRD001  Classic T-Shirt    Cotton T-shirt with crew neck   White   S, M, L   \n",
       "1  PRD002     Skinny Jeans        Denim jeans with slim fit    Blue     28-36   \n",
       "2  PRD003    Wool Cardigan  Cozy cardigan with button front    Grey      M, L   \n",
       "3  PRD004     Floral Dress  Summer dress with floral prints  Yellow      XS-L   \n",
       "4  PRD005   Leather Jacket   Premium genuine leather jacket   Black  M, L, XL   \n",
       "\n",
       "  OriginCountry  DelivrableCountries  AvgPrice (USD) Universe  \n",
       "0           USA  USA, Canada, Mexico               2    Cloth  \n",
       "1         Italy          Europe, USA               2    Cloth  \n",
       "2            UK  UK, Ireland, France               2    Cloth  \n",
       "3         India      Asia, Australia               2    Cloth  \n",
       "4      Pakistan            Worldwide               2    Cloth  "
      ]
     },
     "metadata": {},
     "output_type": "display_data"
    }
   ],
   "source": [
    "product_df = load_sheet(\"Products\", verbose=True)"
   ]
  },
  {
   "cell_type": "code",
   "execution_count": 6,
   "id": "eaeb1673-1a4a-4e99-9736-2880c572c81b",
   "metadata": {},
   "outputs": [
    {
     "name": "stdout",
     "output_type": "stream",
     "text": [
      "Orders Data Shape: (6, 5)\n"
     ]
    },
    {
     "data": {
      "text/html": [
       "<div>\n",
       "<style scoped>\n",
       "    .dataframe tbody tr th:only-of-type {\n",
       "        vertical-align: middle;\n",
       "    }\n",
       "\n",
       "    .dataframe tbody tr th {\n",
       "        vertical-align: top;\n",
       "    }\n",
       "\n",
       "    .dataframe thead th {\n",
       "        text-align: right;\n",
       "    }\n",
       "</style>\n",
       "<table border=\"1\" class=\"dataframe\">\n",
       "  <thead>\n",
       "    <tr style=\"text-align: right;\">\n",
       "      <th></th>\n",
       "      <th>Id</th>\n",
       "      <th>CustomerId</th>\n",
       "      <th>Date</th>\n",
       "      <th>CustomerName</th>\n",
       "      <th>CustomerCountry</th>\n",
       "    </tr>\n",
       "  </thead>\n",
       "  <tbody>\n",
       "    <tr>\n",
       "      <th>0</th>\n",
       "      <td>ORD001</td>\n",
       "      <td>CLT001</td>\n",
       "      <td>2024-10-20</td>\n",
       "      <td>John Doe</td>\n",
       "      <td>France</td>\n",
       "    </tr>\n",
       "    <tr>\n",
       "      <th>1</th>\n",
       "      <td>ORD002</td>\n",
       "      <td>CLT003</td>\n",
       "      <td>2024-11-21</td>\n",
       "      <td>Alice Johnson</td>\n",
       "      <td>USA</td>\n",
       "    </tr>\n",
       "    <tr>\n",
       "      <th>2</th>\n",
       "      <td>ORD003</td>\n",
       "      <td>CLT001</td>\n",
       "      <td>2024-11-25</td>\n",
       "      <td>John Doe</td>\n",
       "      <td>France</td>\n",
       "    </tr>\n",
       "    <tr>\n",
       "      <th>3</th>\n",
       "      <td>ORD004</td>\n",
       "      <td>CLT002</td>\n",
       "      <td>2024-11-27</td>\n",
       "      <td>Jane Smith</td>\n",
       "      <td>USA</td>\n",
       "    </tr>\n",
       "    <tr>\n",
       "      <th>4</th>\n",
       "      <td>ORD005</td>\n",
       "      <td>CLT003</td>\n",
       "      <td>2024-12-01</td>\n",
       "      <td>Alice Johnson</td>\n",
       "      <td>USA</td>\n",
       "    </tr>\n",
       "  </tbody>\n",
       "</table>\n",
       "</div>"
      ],
      "text/plain": [
       "       Id CustomerId        Date   CustomerName CustomerCountry\n",
       "0  ORD001     CLT001  2024-10-20       John Doe          France\n",
       "1  ORD002     CLT003  2024-11-21  Alice Johnson             USA\n",
       "2  ORD003     CLT001  2024-11-25       John Doe          France\n",
       "3  ORD004     CLT002  2024-11-27     Jane Smith             USA\n",
       "4  ORD005     CLT003  2024-12-01  Alice Johnson             USA"
      ]
     },
     "metadata": {},
     "output_type": "display_data"
    }
   ],
   "source": [
    "order_df = load_sheet(\"Orders\", verbose=True)"
   ]
  },
  {
   "cell_type": "code",
   "execution_count": 7,
   "id": "6aae9cac-c64f-49da-b38c-d9728f04dcf2",
   "metadata": {},
   "outputs": [
    {
     "name": "stdout",
     "output_type": "stream",
     "text": [
      "OrderItems Data Shape: (22, 7)\n"
     ]
    },
    {
     "data": {
      "text/html": [
       "<div>\n",
       "<style scoped>\n",
       "    .dataframe tbody tr th:only-of-type {\n",
       "        vertical-align: middle;\n",
       "    }\n",
       "\n",
       "    .dataframe tbody tr th {\n",
       "        vertical-align: top;\n",
       "    }\n",
       "\n",
       "    .dataframe thead th {\n",
       "        text-align: right;\n",
       "    }\n",
       "</style>\n",
       "<table border=\"1\" class=\"dataframe\">\n",
       "  <thead>\n",
       "    <tr style=\"text-align: right;\">\n",
       "      <th></th>\n",
       "      <th>Id</th>\n",
       "      <th>OrderId</th>\n",
       "      <th>ProductId</th>\n",
       "      <th>ProductName</th>\n",
       "      <th>Quantity</th>\n",
       "      <th>UnitPrice</th>\n",
       "      <th>Currency</th>\n",
       "    </tr>\n",
       "  </thead>\n",
       "  <tbody>\n",
       "    <tr>\n",
       "      <th>0</th>\n",
       "      <td>ITM001</td>\n",
       "      <td>ORD001</td>\n",
       "      <td>PRD002</td>\n",
       "      <td>Skinny Jeans</td>\n",
       "      <td>3</td>\n",
       "      <td>2</td>\n",
       "      <td>USD</td>\n",
       "    </tr>\n",
       "    <tr>\n",
       "      <th>1</th>\n",
       "      <td>ITM002</td>\n",
       "      <td>ORD001</td>\n",
       "      <td>PRD011</td>\n",
       "      <td>Galaxy S23 Ultra</td>\n",
       "      <td>1</td>\n",
       "      <td>500</td>\n",
       "      <td>USD</td>\n",
       "    </tr>\n",
       "    <tr>\n",
       "      <th>2</th>\n",
       "      <td>ITM003</td>\n",
       "      <td>ORD001</td>\n",
       "      <td>PRD013</td>\n",
       "      <td>Pixel 8 Pro</td>\n",
       "      <td>4</td>\n",
       "      <td>500</td>\n",
       "      <td>USD</td>\n",
       "    </tr>\n",
       "    <tr>\n",
       "      <th>3</th>\n",
       "      <td>ITM004</td>\n",
       "      <td>ORD001</td>\n",
       "      <td>PRD025</td>\n",
       "      <td>Amber Essence</td>\n",
       "      <td>4</td>\n",
       "      <td>80</td>\n",
       "      <td>USD</td>\n",
       "    </tr>\n",
       "    <tr>\n",
       "      <th>4</th>\n",
       "      <td>ITM005</td>\n",
       "      <td>ORD001</td>\n",
       "      <td>PRD037</td>\n",
       "      <td>Torres Sangre de Toro</td>\n",
       "      <td>10</td>\n",
       "      <td>15</td>\n",
       "      <td>USD</td>\n",
       "    </tr>\n",
       "  </tbody>\n",
       "</table>\n",
       "</div>"
      ],
      "text/plain": [
       "       Id OrderId ProductId            ProductName  Quantity  UnitPrice  \\\n",
       "0  ITM001  ORD001    PRD002           Skinny Jeans         3          2   \n",
       "1  ITM002  ORD001    PRD011       Galaxy S23 Ultra         1        500   \n",
       "2  ITM003  ORD001    PRD013            Pixel 8 Pro         4        500   \n",
       "3  ITM004  ORD001    PRD025          Amber Essence         4         80   \n",
       "4  ITM005  ORD001    PRD037  Torres Sangre de Toro        10         15   \n",
       "\n",
       "  Currency  \n",
       "0      USD  \n",
       "1      USD  \n",
       "2      USD  \n",
       "3      USD  \n",
       "4      USD  "
      ]
     },
     "metadata": {},
     "output_type": "display_data"
    }
   ],
   "source": [
    "order_item_df = load_sheet(\"OrderItems\", verbose=True)"
   ]
  },
  {
   "cell_type": "code",
   "execution_count": 8,
   "id": "09efb4e2-11b3-43c9-8e1a-00b2b3ba8871",
   "metadata": {},
   "outputs": [
    {
     "name": "stdout",
     "output_type": "stream",
     "text": [
      "Deliveries Data Shape: (8, 9)\n"
     ]
    },
    {
     "data": {
      "text/html": [
       "<div>\n",
       "<style scoped>\n",
       "    .dataframe tbody tr th:only-of-type {\n",
       "        vertical-align: middle;\n",
       "    }\n",
       "\n",
       "    .dataframe tbody tr th {\n",
       "        vertical-align: top;\n",
       "    }\n",
       "\n",
       "    .dataframe thead th {\n",
       "        text-align: right;\n",
       "    }\n",
       "</style>\n",
       "<table border=\"1\" class=\"dataframe\">\n",
       "  <thead>\n",
       "    <tr style=\"text-align: right;\">\n",
       "      <th></th>\n",
       "      <th>Id</th>\n",
       "      <th>OrderId</th>\n",
       "      <th>SentDate</th>\n",
       "      <th>PlannedDeliveryDate</th>\n",
       "      <th>EffectiveDeliveryDate</th>\n",
       "      <th>AnyDeliveryIssue</th>\n",
       "      <th>DeliveryCountry</th>\n",
       "      <th>Status</th>\n",
       "      <th>AnyOpenTicket</th>\n",
       "    </tr>\n",
       "  </thead>\n",
       "  <tbody>\n",
       "    <tr>\n",
       "      <th>0</th>\n",
       "      <td>DLV001</td>\n",
       "      <td>ORD001</td>\n",
       "      <td>2024-10-20</td>\n",
       "      <td>2024-10-24</td>\n",
       "      <td>2024-10-23</td>\n",
       "      <td>NO</td>\n",
       "      <td>France</td>\n",
       "      <td>DELIVERED</td>\n",
       "      <td>NO</td>\n",
       "    </tr>\n",
       "    <tr>\n",
       "      <th>1</th>\n",
       "      <td>DLV002</td>\n",
       "      <td>ORD002</td>\n",
       "      <td>2024-11-21</td>\n",
       "      <td>2024-11-22</td>\n",
       "      <td>None</td>\n",
       "      <td>YES</td>\n",
       "      <td>UK</td>\n",
       "      <td>CANCELLED</td>\n",
       "      <td>NO</td>\n",
       "    </tr>\n",
       "    <tr>\n",
       "      <th>2</th>\n",
       "      <td>DLV003</td>\n",
       "      <td>ORD002</td>\n",
       "      <td>2024-11-24</td>\n",
       "      <td>2024-11-28</td>\n",
       "      <td>2024-11-25</td>\n",
       "      <td>NO</td>\n",
       "      <td>USA</td>\n",
       "      <td>DELIVERED</td>\n",
       "      <td>NO</td>\n",
       "    </tr>\n",
       "    <tr>\n",
       "      <th>3</th>\n",
       "      <td>DLV004</td>\n",
       "      <td>ORD003</td>\n",
       "      <td>2024-11-25</td>\n",
       "      <td>2024-11-25</td>\n",
       "      <td>2024-11-26</td>\n",
       "      <td>NO</td>\n",
       "      <td>France</td>\n",
       "      <td>DELIVERED</td>\n",
       "      <td>NO</td>\n",
       "    </tr>\n",
       "    <tr>\n",
       "      <th>4</th>\n",
       "      <td>DLV005</td>\n",
       "      <td>ORD004</td>\n",
       "      <td>2024-11-27</td>\n",
       "      <td>2024-12-01</td>\n",
       "      <td>None</td>\n",
       "      <td>YES</td>\n",
       "      <td>USA</td>\n",
       "      <td>CANCELLED</td>\n",
       "      <td>NO</td>\n",
       "    </tr>\n",
       "  </tbody>\n",
       "</table>\n",
       "</div>"
      ],
      "text/plain": [
       "       Id OrderId    SentDate PlannedDeliveryDate EffectiveDeliveryDate  \\\n",
       "0  DLV001  ORD001  2024-10-20          2024-10-24            2024-10-23   \n",
       "1  DLV002  ORD002  2024-11-21          2024-11-22                  None   \n",
       "2  DLV003  ORD002  2024-11-24          2024-11-28            2024-11-25   \n",
       "3  DLV004  ORD003  2024-11-25          2024-11-25            2024-11-26   \n",
       "4  DLV005  ORD004  2024-11-27          2024-12-01                  None   \n",
       "\n",
       "  AnyDeliveryIssue DeliveryCountry     Status AnyOpenTicket  \n",
       "0               NO          France  DELIVERED            NO  \n",
       "1              YES              UK  CANCELLED            NO  \n",
       "2               NO             USA  DELIVERED            NO  \n",
       "3               NO          France  DELIVERED            NO  \n",
       "4              YES             USA  CANCELLED            NO  "
      ]
     },
     "execution_count": 8,
     "metadata": {},
     "output_type": "execute_result"
    }
   ],
   "source": [
    "delivery_df = load_sheet(\"Deliveries\", verbose=False)\n",
    "delivery_df.loc[\n",
    "    delivery_df[\"EffectiveDeliveryDate\"].isnull(), \"EffectiveDeliveryDate\"\n",
    "] = None\n",
    "print(\"Deliveries Data Shape:\", delivery_df.shape)\n",
    "delivery_df.head()"
   ]
  },
  {
   "cell_type": "code",
   "execution_count": null,
   "id": "0bef1b7c",
   "metadata": {},
   "outputs": [],
   "source": []
  },
  {
   "cell_type": "markdown",
   "id": "3ddd6d94",
   "metadata": {},
   "source": [
    "## Data Modeling"
   ]
  },
  {
   "cell_type": "markdown",
   "id": "97f8c77a",
   "metadata": {},
   "source": [
    "The use case can be addressed in several ways:\n",
    "\n",
    "* In a one shot prompt to a LLM\n",
    "* Using multi-steps LLM workflows\n",
    "* Orchestrating autonomous LLM Agents\n",
    "\n",
    "While all of these approaches will be studied sooner or later, we'll only be considering the first one in this introductory notebook.\n",
    "\n",
    "Too much talk, let's deep dive now !\n",
    "\n",
    "In the above data presentation section, we can see that our datasets are designed in a top-down way. While this is optimal for storage in DBMS, it's far from ideal for LLM querying. In fact, in order to correctly handle the request, the LLM should be able to see all the customer's context at a glance, meaning the data should be presented in a bottom-up way where all the customer's information is packed into a single and compact object.\n",
    "\n",
    "Bellow, we'll be using [Pydantic](https://docs.pydantic.dev/latest/) to model our data in such way."
   ]
  },
  {
   "cell_type": "markdown",
   "id": "777b6082",
   "metadata": {},
   "source": [
    "### Base Pydantic Model"
   ]
  },
  {
   "cell_type": "code",
   "execution_count": 9,
   "id": "bd16db4c",
   "metadata": {},
   "outputs": [],
   "source": [
    "import re\n",
    "from datetime import date\n",
    "from typing import Any, Literal, Optional\n",
    "\n",
    "import pandas as pd\n",
    "from pydantic import BaseModel as pBaseModel"
   ]
  },
  {
   "cell_type": "code",
   "execution_count": 10,
   "id": "a66bdf15",
   "metadata": {},
   "outputs": [],
   "source": [
    "DELIVERY_STATUS = Literal[\n",
    "    \"DELIVERED\", \"AT_CHECKPOINT\", \"IN_TRANSIT\", \"CANCELLED\", \"RETURNED\"\n",
    "]\n",
    "CURRENCY = Literal[\"USD\", \"EUR\", \"GBP\", \"CHF\", \"JPY\", \"CNY\"]"
   ]
  },
  {
   "cell_type": "code",
   "execution_count": 11,
   "id": "7c507352",
   "metadata": {},
   "outputs": [],
   "source": [
    "def clean_field_name(field_name: str) -> str:\n",
    "    return re.sub(r\"[^a-z]\", \"\", field_name.lower())"
   ]
  },
  {
   "cell_type": "code",
   "execution_count": 12,
   "id": "bc434f48",
   "metadata": {},
   "outputs": [],
   "source": [
    "class BaseModel(pBaseModel):\n",
    "    \"\"\"\n",
    "    Base data model, with some helper methods for object instantiation from dicts.\n",
    "    \"\"\"\n",
    "\n",
    "    @classmethod\n",
    "    def retrieve_raw_field_values(\n",
    "        cls, data: dict[str, Any], strict: bool = True\n",
    "    ) -> dict[str, Any]:\n",
    "\n",
    "        data_keys = {clean_field_name(key): key for key in data}\n",
    "        field_values: dict[str, Any] = {}\n",
    "\n",
    "        for field_name in cls.model_fields:\n",
    "            field_name_ = clean_field_name(field_name)\n",
    "            try:\n",
    "                field_values[field_name] = data[data_keys[field_name_]]\n",
    "            except KeyError as e:\n",
    "                if strict:\n",
    "                    raise ValueError(f\"Field {field_name} not found in data\") from e\n",
    "\n",
    "        return field_values\n",
    "\n",
    "    @classmethod\n",
    "    def preprocess_raw_field_values(\n",
    "        cls, raw_field_values: dict[str, Any]\n",
    "    ) -> dict[str, Any]:\n",
    "        return raw_field_values\n",
    "\n",
    "    @classmethod\n",
    "    def from_dict(\n",
    "        cls, data: dict[str, Any], *, strict: bool | None = None, **kwargs: Any\n",
    "    ):\n",
    "        strict = not bool(kwargs) if strict is None else strict\n",
    "        raw_field_values = cls.retrieve_raw_field_values(data, strict=strict)\n",
    "        raw_field_values.update(kwargs)\n",
    "        return cls(**cls.preprocess_raw_field_values(raw_field_values))"
   ]
  },
  {
   "cell_type": "markdown",
   "id": "1ac0e30e",
   "metadata": {},
   "source": [
    "### Product Data Model"
   ]
  },
  {
   "cell_type": "code",
   "execution_count": 13,
   "id": "115e2a44",
   "metadata": {},
   "outputs": [],
   "source": [
    "class Product(BaseModel):\n",
    "    id: str\n",
    "    name: str\n",
    "    short_description: str\n",
    "    color: str\n",
    "    size: str\n",
    "    origin_country: str\n",
    "    delivrable_countries: list[str]\n",
    "    universe: str\n",
    "\n",
    "    @classmethod\n",
    "    def preprocess_raw_field_values(cls, raw_field_values: dict[str, Any]):\n",
    "        \"\"\"Ensure delivrable_countries is a list of strings\"\"\"\n",
    "\n",
    "        raw_field_values[\"delivrable_countries\"] = re.split(\n",
    "            r\"\\s*[,;]\\s*\", raw_field_values[\"delivrable_countries\"]\n",
    "        )\n",
    "        return raw_field_values"
   ]
  },
  {
   "cell_type": "code",
   "execution_count": 14,
   "id": "48c0eb24-0876-40c4-9079-51868b8e32cd",
   "metadata": {},
   "outputs": [
    {
     "data": {
      "text/plain": [
       "Product(id='PRD001', name='Classic T-Shirt', short_description='Cotton T-shirt with crew neck', color='White', size='S, M, L', origin_country='USA', delivrable_countries=['USA', 'Canada', 'Mexico'], universe='Cloth')"
      ]
     },
     "execution_count": 14,
     "metadata": {},
     "output_type": "execute_result"
    }
   ],
   "source": [
    "product = Product.from_dict(product_df.iloc[0].to_dict())\n",
    "product"
   ]
  },
  {
   "cell_type": "markdown",
   "id": "4256af41",
   "metadata": {},
   "source": [
    "### Delivery Data Model"
   ]
  },
  {
   "cell_type": "code",
   "execution_count": 15,
   "id": "43efac41",
   "metadata": {},
   "outputs": [],
   "source": [
    "class Delivery(BaseModel):\n",
    "    id: str\n",
    "    status: DELIVERY_STATUS\n",
    "    sent_date: date\n",
    "    planned_delivery_date: date\n",
    "    effective_delivery_date: Optional[date]\n",
    "    any_delivery_issue: bool\n",
    "    delivery_country: str"
   ]
  },
  {
   "cell_type": "code",
   "execution_count": 16,
   "id": "ab3c9bcf-896a-45a3-8948-7a16ff6b2818",
   "metadata": {},
   "outputs": [
    {
     "data": {
      "text/plain": [
       "Delivery(id='DLV001', status='DELIVERED', sent_date=datetime.date(2024, 10, 20), planned_delivery_date=datetime.date(2024, 10, 24), effective_delivery_date=datetime.date(2024, 10, 23), any_delivery_issue=False, delivery_country='France')"
      ]
     },
     "execution_count": 16,
     "metadata": {},
     "output_type": "execute_result"
    }
   ],
   "source": [
    "delivery = Delivery.from_dict(delivery_df.iloc[0].to_dict())\n",
    "delivery"
   ]
  },
  {
   "cell_type": "markdown",
   "id": "3274aa71",
   "metadata": {},
   "source": [
    "### Order Item Data Model"
   ]
  },
  {
   "cell_type": "code",
   "execution_count": 17,
   "id": "7597bc1c",
   "metadata": {},
   "outputs": [],
   "source": [
    "class OrderItem(BaseModel):\n",
    "    id: str\n",
    "    product: Product\n",
    "    quantity: int\n",
    "    unit_price: float\n",
    "    currency: CURRENCY"
   ]
  },
  {
   "cell_type": "code",
   "execution_count": 18,
   "id": "3f03f176-51cd-4446-8bc6-649f9c0dde9c",
   "metadata": {},
   "outputs": [
    {
     "data": {
      "text/plain": [
       "OrderItem(id='ITM001', product=Product(id='PRD001', name='Classic T-Shirt', short_description='Cotton T-shirt with crew neck', color='White', size='S, M, L', origin_country='USA', delivrable_countries=['USA', 'Canada', 'Mexico'], universe='Cloth'), quantity=3, unit_price=2.0, currency='USD')"
      ]
     },
     "execution_count": 18,
     "metadata": {},
     "output_type": "execute_result"
    }
   ],
   "source": [
    "order_item = OrderItem.from_dict(order_item_df.iloc[0].to_dict(), product=product)\n",
    "order_item"
   ]
  },
  {
   "cell_type": "markdown",
   "id": "f458dca6",
   "metadata": {},
   "source": [
    "### Order Data Model"
   ]
  },
  {
   "cell_type": "code",
   "execution_count": 19,
   "id": "66609ef5",
   "metadata": {},
   "outputs": [],
   "source": [
    "class Order(BaseModel):\n",
    "    id: str\n",
    "    date: date\n",
    "    items: list[OrderItem]\n",
    "    deliveries: list[Delivery]"
   ]
  },
  {
   "cell_type": "code",
   "execution_count": 20,
   "id": "aa973886-927c-46b2-8b6a-dd5aa4c68605",
   "metadata": {},
   "outputs": [
    {
     "data": {
      "text/plain": [
       "Order(id='ORD001', date=datetime.date(2024, 10, 20), items=[OrderItem(id='ITM001', product=Product(id='PRD001', name='Classic T-Shirt', short_description='Cotton T-shirt with crew neck', color='White', size='S, M, L', origin_country='USA', delivrable_countries=['USA', 'Canada', 'Mexico'], universe='Cloth'), quantity=3, unit_price=2.0, currency='USD')], deliveries=[Delivery(id='DLV001', status='DELIVERED', sent_date=datetime.date(2024, 10, 20), planned_delivery_date=datetime.date(2024, 10, 24), effective_delivery_date=datetime.date(2024, 10, 23), any_delivery_issue=False, delivery_country='France')])"
      ]
     },
     "execution_count": 20,
     "metadata": {},
     "output_type": "execute_result"
    }
   ],
   "source": [
    "order = Order.from_dict(\n",
    "    order_df.iloc[0].to_dict(), items=[order_item], deliveries=[delivery]\n",
    ")\n",
    "\n",
    "\n",
    "order"
   ]
  },
  {
   "cell_type": "markdown",
   "id": "b0ce4905",
   "metadata": {},
   "source": [
    "### Customer Data Model"
   ]
  },
  {
   "cell_type": "code",
   "execution_count": 21,
   "id": "25de7584",
   "metadata": {},
   "outputs": [],
   "source": [
    "class Customer(BaseModel):\n",
    "    id: str\n",
    "    name: str\n",
    "    email: str\n",
    "    country: str\n",
    "    orders: list[Order]"
   ]
  },
  {
   "cell_type": "code",
   "execution_count": 22,
   "id": "53444c69-8140-4d21-b42e-07ddd8955944",
   "metadata": {},
   "outputs": [
    {
     "data": {
      "text/plain": [
       "Customer(id='CLT001', name='John Doe', email='john.doe@example.com', country='France', orders=[Order(id='ORD001', date=datetime.date(2024, 10, 20), items=[OrderItem(id='ITM001', product=Product(id='PRD001', name='Classic T-Shirt', short_description='Cotton T-shirt with crew neck', color='White', size='S, M, L', origin_country='USA', delivrable_countries=['USA', 'Canada', 'Mexico'], universe='Cloth'), quantity=3, unit_price=2.0, currency='USD')], deliveries=[Delivery(id='DLV001', status='DELIVERED', sent_date=datetime.date(2024, 10, 20), planned_delivery_date=datetime.date(2024, 10, 24), effective_delivery_date=datetime.date(2024, 10, 23), any_delivery_issue=False, delivery_country='France')])])"
      ]
     },
     "execution_count": 22,
     "metadata": {},
     "output_type": "execute_result"
    }
   ],
   "source": [
    "customer = Customer.from_dict(customer_df.iloc[0].to_dict(), orders=[order])\n",
    "customer"
   ]
  },
  {
   "cell_type": "markdown",
   "id": "95069786",
   "metadata": {},
   "source": [
    "> Well  done ! Now we have our data models defined and the `Customer` data model does pack all the customer information into a single object."
   ]
  },
  {
   "cell_type": "markdown",
   "id": "6e4c37ac-9138-48ab-8edb-48c13176d584",
   "metadata": {},
   "source": [
    "### From Pandas DataFrames to a Compcat CRM Data"
   ]
  },
  {
   "cell_type": "markdown",
   "id": "e9476f17",
   "metadata": {},
   "source": [
    "Here, we'll pack the dataframes into a dictionary of `Customer` objects. Let's define a function to do this."
   ]
  },
  {
   "cell_type": "code",
   "execution_count": 23,
   "id": "30d58d39-b638-4cf7-ad6d-9069c2337846",
   "metadata": {},
   "outputs": [],
   "source": [
    "def build_crm_data(\n",
    "    customer_df: pd.DataFrame,\n",
    "    product_df: pd.DataFrame,\n",
    "    order_df: pd.DataFrame,\n",
    "    order_item_df: pd.DataFrame,\n",
    "    delivery_df: pd.DataFrame,\n",
    ") -> dict[str, Customer]:\n",
    "\n",
    "    products_dict = {\n",
    "        product_dict[\"Id\"]: Product.from_dict(product_dict)\n",
    "        for product_dict in product_df.to_dict(orient=\"records\")\n",
    "    }\n",
    "\n",
    "    crm_data: dict[str, Customer] = {}\n",
    "\n",
    "    for customer_dict in customer_df.to_dict(orient=\"records\"):\n",
    "\n",
    "        orders: list[Order] = []\n",
    "\n",
    "        for order_dict in order_df.query(\"CustomerId == @customer_dict['Id']\").to_dict(\n",
    "            orient=\"records\"\n",
    "        ):\n",
    "            items = [\n",
    "                OrderItem.from_dict(\n",
    "                    order_item_dict, product=products_dict[order_item_dict[\"ProductId\"]]\n",
    "                )\n",
    "                for order_item_dict in order_item_df.query(\n",
    "                    \"OrderId == @order_dict['Id']\"\n",
    "                ).to_dict(orient=\"records\")\n",
    "            ]\n",
    "\n",
    "            deliveries = [\n",
    "                Delivery.from_dict(delivery_dict)\n",
    "                for delivery_dict in delivery_df.query(\n",
    "                    \"OrderId == @order_dict['Id']\"\n",
    "                ).to_dict(orient=\"records\")\n",
    "            ]\n",
    "            order = Order.from_dict(order_dict, items=items, deliveries=deliveries)\n",
    "\n",
    "            orders.append(order)\n",
    "\n",
    "        customer = Customer.from_dict(customer_dict, orders=orders)\n",
    "        crm_data[customer.id] = customer\n",
    "\n",
    "    return crm_data"
   ]
  },
  {
   "cell_type": "code",
   "execution_count": 24,
   "id": "593885fa-436d-4c53-837b-21ab2d0befc9",
   "metadata": {
    "scrolled": true
   },
   "outputs": [
    {
     "data": {
      "text/markdown": [
       "**number of customers:** 5"
      ],
      "text/plain": [
       "<IPython.core.display.Markdown object>"
      ]
     },
     "metadata": {},
     "output_type": "display_data"
    }
   ],
   "source": [
    "crm_data = build_crm_data(\n",
    "    customer_df=customer_df,\n",
    "    product_df=product_df,\n",
    "    order_df=order_df,\n",
    "    order_item_df=order_item_df,\n",
    "    delivery_df=delivery_df,\n",
    ")\n",
    "display(md(f\"**number of customers:** {len(crm_data)}\"))\n",
    "# print(crm_data[\"CLT001\"].model_dump_json(indent=2))"
   ]
  },
  {
   "cell_type": "markdown",
   "id": "6423c24b",
   "metadata": {},
   "source": [
    "## LLM for Customer Care"
   ]
  },
  {
   "cell_type": "markdown",
   "id": "837a00b9",
   "metadata": {},
   "source": [
    "### Getting Ready: Settings"
   ]
  },
  {
   "cell_type": "markdown",
   "id": "9adfe1a0",
   "metadata": {},
   "source": [
    "The code is designed to work with any OpenAI API compatible LLM Provider. Just make sure to set the required environment variables:\n",
    "\n",
    "* OPENAI_API_KEY\n",
    "* OPENAI_BASE_URL (optional)\n",
    "\n",
    "You could put these values in a `.env` file in the root of the project and then load them with `load_dotenv()`.\n",
    "\n",
    "The prompts are parametrized using [Jinja2](https://jinja.palletsprojects.com/en/stable/) template engine."
   ]
  },
  {
   "cell_type": "markdown",
   "id": "03d4db3b",
   "metadata": {},
   "source": [
    "### Analyzing the Customer Requests"
   ]
  },
  {
   "cell_type": "code",
   "execution_count": 25,
   "id": "0a449dcc",
   "metadata": {},
   "outputs": [
    {
     "name": "stdout",
     "output_type": "stream",
     "text": [
      "Messages Data Shape: (3, 6)\n"
     ]
    },
    {
     "data": {
      "text/html": [
       "<div>\n",
       "<style scoped>\n",
       "    .dataframe tbody tr th:only-of-type {\n",
       "        vertical-align: middle;\n",
       "    }\n",
       "\n",
       "    .dataframe tbody tr th {\n",
       "        vertical-align: top;\n",
       "    }\n",
       "\n",
       "    .dataframe thead th {\n",
       "        text-align: right;\n",
       "    }\n",
       "</style>\n",
       "<table border=\"1\" class=\"dataframe\">\n",
       "  <thead>\n",
       "    <tr style=\"text-align: right;\">\n",
       "      <th></th>\n",
       "      <th>Id</th>\n",
       "      <th>CustomerId</th>\n",
       "      <th>CustomereMail</th>\n",
       "      <th>Title</th>\n",
       "      <th>Body</th>\n",
       "      <th>Date</th>\n",
       "    </tr>\n",
       "  </thead>\n",
       "  <tbody>\n",
       "    <tr>\n",
       "      <th>0</th>\n",
       "      <td>MSG001</td>\n",
       "      <td>CLT001</td>\n",
       "      <td>john.doe@example.com</td>\n",
       "      <td>Total Order Cost</td>\n",
       "      <td>Hello,\\n\\nThanks for the quick delivery. Could...</td>\n",
       "      <td>2024-11-24</td>\n",
       "    </tr>\n",
       "    <tr>\n",
       "      <th>1</th>\n",
       "      <td>MSG002</td>\n",
       "      <td>CLT001</td>\n",
       "      <td>john.doe@example.com</td>\n",
       "      <td>Delivery Issue</td>\n",
       "      <td>Hello,\\n\\nHow is it possible that after so man...</td>\n",
       "      <td>2024-12-20</td>\n",
       "    </tr>\n",
       "    <tr>\n",
       "      <th>2</th>\n",
       "      <td>MSG003</td>\n",
       "      <td>CLT001</td>\n",
       "      <td>john.doe@example.com</td>\n",
       "      <td>Delivery Issue</td>\n",
       "      <td>Hello,\\n\\nHow is it possible that my order con...</td>\n",
       "      <td>2024-12-20</td>\n",
       "    </tr>\n",
       "  </tbody>\n",
       "</table>\n",
       "</div>"
      ],
      "text/plain": [
       "       Id CustomerId         CustomereMail             Title  \\\n",
       "0  MSG001     CLT001  john.doe@example.com  Total Order Cost   \n",
       "1  MSG002     CLT001  john.doe@example.com    Delivery Issue   \n",
       "2  MSG003     CLT001  john.doe@example.com    Delivery Issue   \n",
       "\n",
       "                                                Body        Date  \n",
       "0  Hello,\\n\\nThanks for the quick delivery. Could...  2024-11-24  \n",
       "1  Hello,\\n\\nHow is it possible that after so man...  2024-12-20  \n",
       "2  Hello,\\n\\nHow is it possible that my order con...  2024-12-20  "
      ]
     },
     "metadata": {},
     "output_type": "display_data"
    }
   ],
   "source": [
    "msg_df = load_sheet(\"Messages\", verbose=True)"
   ]
  },
  {
   "cell_type": "code",
   "execution_count": 26,
   "id": "08d66b83",
   "metadata": {},
   "outputs": [],
   "source": [
    "num_eqs = 20  # number of equal signs to display each side (left and right)"
   ]
  },
  {
   "cell_type": "code",
   "execution_count": 27,
   "id": "c405f70b",
   "metadata": {},
   "outputs": [],
   "source": [
    "def display_msg(row: pd.Series) -> None:\n",
    "    display(\n",
    "        md(\n",
    "            f\"\"\"\n",
    "<font color=\"teal\">{\"=\"*num_eqs} {row['Title']} {\"=\"*num_eqs}</font>  \n",
    "**Request Date:** <font color=\"lightblue\">{row[\"Date\"]}</font>  \n",
    "**Request Title:** <font color=\"red\">{row[\"Title\"]}</font>  \n",
    "\n",
    "{row[\"Body\"]}\n",
    "___\n",
    "<br><br>\n",
    "\"\"\"\n",
    "        )\n",
    "    )"
   ]
  },
  {
   "cell_type": "code",
   "execution_count": 28,
   "id": "a74d1922",
   "metadata": {},
   "outputs": [
    {
     "data": {
      "text/markdown": [
       "\n",
       "<font color=\"teal\">==================== Total Order Cost ====================</font>  \n",
       "**Request Date:** <font color=\"lightblue\">2024-11-24</font>  \n",
       "**Request Title:** <font color=\"red\">Total Order Cost</font>  \n",
       "\n",
       "Hello,\n",
       "\n",
       "Thanks for the quick delivery. Could you please send me my last Nov order total cost ?\n",
       "\n",
       "Regards,\n",
       "John\n",
       "___\n",
       "<br><br>\n"
      ],
      "text/plain": [
       "<IPython.core.display.Markdown object>"
      ]
     },
     "metadata": {},
     "output_type": "display_data"
    },
    {
     "data": {
      "text/markdown": [
       "\n",
       "<font color=\"teal\">==================== Delivery Issue ====================</font>  \n",
       "**Request Date:** <font color=\"lightblue\">2024-12-20</font>  \n",
       "**Request Title:** <font color=\"red\">Delivery Issue</font>  \n",
       "\n",
       "Hello,\n",
       "\n",
       "How is it possible that after so many days after my 12 Dec order, I still not having received my due items. Could you please confirm that the items are not delivered to me yet and tell me when that would be the case ?\n",
       "\n",
       "Regards,\n",
       "John\n",
       "___\n",
       "<br><br>\n"
      ],
      "text/plain": [
       "<IPython.core.display.Markdown object>"
      ]
     },
     "metadata": {},
     "output_type": "display_data"
    },
    {
     "data": {
      "text/markdown": [
       "\n",
       "<font color=\"teal\">==================== Delivery Issue ====================</font>  \n",
       "**Request Date:** <font color=\"lightblue\">2024-12-20</font>  \n",
       "**Request Title:** <font color=\"red\">Delivery Issue</font>  \n",
       "\n",
       "Hello,\n",
       "\n",
       "How is it possible that my order containing my beloved PREMIUM AUSTRLIAN SHIRAZ still not delivered after so many days ? Could you please confirm that the items are not delivered to me yet and tell me when that would be the case ?\n",
       "\n",
       "Regards,\n",
       "John\n",
       "___\n",
       "<br><br>\n"
      ],
      "text/plain": [
       "<IPython.core.display.Markdown object>"
      ]
     },
     "metadata": {},
     "output_type": "display_data"
    }
   ],
   "source": [
    "for row_idx, row in msg_df.iloc[:3].iterrows():\n",
    "    display_msg(row)"
   ]
  },
  {
   "cell_type": "markdown",
   "id": "7e7b8c66",
   "metadata": {},
   "source": [
    "Based on the above requests, a good prompt should:\n",
    "\n",
    "* **Identify the Core Inquiry:** Distinguish between order details, delivery issues, or other concerns.\n",
    "* **Extract Relevant Details:** Include order dates, product names, or any identifiable information provided.\n",
    "* **Provide Empathy and Reassurance:** Acknowledge the concern with professionalism.\n",
    "* **Guide Action:** Ask the system to retrieve necessary information and provide a clear response or next steps."
   ]
  },
  {
   "cell_type": "markdown",
   "id": "cbade253",
   "metadata": {},
   "source": [
    "These key points should help the LLM to overcomme challenges such as :\n",
    "- **Understanding Requests**: Ambiguity, language variability, and multi-concern queries.\n",
    "- **Reference Disambiguition**: Identifying relevant information with insufficient and partial details\n",
    "- **Tone Management**: Accurately detecting sentiment and responding empathetically.\n",
    "- **Edge Cases**: wrong claims, non identifiable products, etc."
   ]
  },
  {
   "cell_type": "code",
   "execution_count": null,
   "id": "4c2a3bb3",
   "metadata": {},
   "outputs": [],
   "source": []
  },
  {
   "cell_type": "markdown",
   "id": "aed6e4ce",
   "metadata": {},
   "source": [
    "### Building the Prompt"
   ]
  },
  {
   "cell_type": "markdown",
   "id": "db772e96",
   "metadata": {},
   "source": [
    "Let's recall that here we're using a one-shot approach, where all the customer data is provided to the LLM at once. Then the LLM will analyse the customer request along with the context and return a, hopefully, relevant response. **May God Save us from Hallucinations** 😂 !"
   ]
  },
  {
   "cell_type": "code",
   "execution_count": 29,
   "id": "019ebd7e",
   "metadata": {},
   "outputs": [],
   "source": [
    "import jinja2\n",
    "import json\n",
    "\n",
    "\n",
    "jinja_env = jinja2.Environment()"
   ]
  },
  {
   "cell_type": "code",
   "execution_count": 30,
   "id": "911eea65",
   "metadata": {},
   "outputs": [],
   "source": [
    "def render_jinja_template(template_str: str, **kwargs: Any) -> str:\n",
    "    return jinja_env.from_string(template_str).render(**kwargs)"
   ]
  },
  {
   "cell_type": "code",
   "execution_count": 31,
   "id": "39f58d00",
   "metadata": {},
   "outputs": [
    {
     "data": {
      "text/markdown": [
       "<br><font color=\"teal\">==================== Tailored Prompt ====================</font><br><br>As a Customer Relation Manager for IntelliCart Inc., you're tasked with addressing customer claims and requests effectively, using personalized information from their historical data. Ensure that each response is thorough and aligned with IntelliCart's customer service standards.\n",
       "\n",
       "Leverage the customer's data, such as orders, deliveries, and purchased products, to provide a detailed response. Consider the context, past interactions, and any specific details or nuances that could enhance the customer’s experience.\n",
       "\n",
       "# Steps\n",
       "\n",
       "1. **Analyze the Customer Request:**\n",
       "   - Review the request date, title, and body to understand the customer's issue or need.\n",
       "   - Identify the primary concern and any secondary points mentioned.\n",
       "\n",
       "2. **Examine Customer Data:**\n",
       "   - Inspect the JSON customer data for relevant historical details like past orders, delivery issues, or frequent product purchases.\n",
       "   - Cross-check any claims made by the customer with their order history and interactions.\n",
       "\n",
       "3. **Formulate a Response:**\n",
       "   - Acknowledge the customer's request and express a willingness to assist.\n",
       "   - Provide information or a solution based on their historical data. Highlight relevant past orders or interactions.\n",
       "   - Offer additional support or follow-up actions if needed.\n",
       "\n",
       "4. **Conclude and Sign Off:**\n",
       "   - Apologize for any inconvenience if appropriate, thank the customer for their patience, and assure them that their issue is being addressed.\n",
       "   - Include IntelliCart's contact details.\n",
       "\n",
       "# Output Format\n",
       "\n",
       "- Responses should be structured into a well-organized, clear, and polite paragraph (or paragraphs if necessary).\n",
       "- Include a sign-off with IntelliCart's customer support contact number and email address at the end.\n",
       "\n",
       "# Examples\n",
       "\n",
       "**Example 1:**\n",
       "\n",
       "**Customer Request / Claim**\n",
       "- Request Date: 2023-11-05\n",
       "- Request Title: Delayed Delivery of Order 1538\n",
       "\n",
       "\"Hello, I ordered a blender on November 5, 2023, and it hasn't been delivered yet. Could you help me track my order?\"\n",
       "\n",
       "**Data**\n",
       "```json\n",
       "{\n",
       "  \"customer_name\": \"John Doe\",\n",
       "  \"orders\": [\n",
       "    {\n",
       "      \"order_id\": 1538,\n",
       "      \"product\": \"Blender\",\n",
       "      \"order_date\": \"November 5, 2023\",\n",
       "      \"estimated_delivery\": \"November 10, 2023\",\n",
       "      \"status\": \"In Transit\"\n",
       "    }\n",
       "  ]\n",
       "}\n",
       "```\n",
       "\n",
       "**Response:**\n",
       "\n",
       "\"Dear John Doe,\n",
       "\n",
       "Thank you for reaching out regarding your order. I understand your concern about the delay. Upon checking, your blender (Order ID: 1538) is currently in transit and was estimated to be delivered by November 10, 2023. We apologize for the delay and any inconvenience this may have caused. I have contacted our delivery partner to expedite your order, and they anticipate it will arrive shortly.\n",
       "\n",
       "For further assistance or if your order doesn’t arrive soon, please feel free to reach us at +3366666666 or support@intellicart.com. Thank you for your patience!\n",
       "\n",
       "Best regards,\n",
       "IntelliCart Customer Support Team\n",
       "Phone: +3366666666\n",
       "Email: support@intellicart.com\"\n",
       "\n",
       "# Notes\n",
       "\n",
       "- Always personalize the response based on the customer's name and specific details of their request.\n",
       "- Ensure that any offered resolution lies within company policy.\n",
       "- Maintain a warm and understanding tone throughout the communication.\n",
       "\n",
       "# Input\n",
       "**Customer Request / Claim**\n",
       "- Request Date: 2024-11-20\n",
       "- Request Title: Not Delivered Order\n",
       "\n",
       "I have a problem with my order which was not delivered.\n",
       "\n",
       "**Customer Data**\n",
       "```json\n",
       "{\"id\": \"CLT000\", \"name\": \"Test Customer\", \"email\": \"test_customer@intellicart.com\", \"country\": \"France\", \"orders\": []}\n",
       "```\n",
       "___"
      ],
      "text/plain": [
       "<IPython.core.display.Markdown object>"
      ]
     },
     "execution_count": 31,
     "metadata": {},
     "output_type": "execute_result"
    }
   ],
   "source": [
    "prompt_as_jinja_template = Path(\n",
    "    \"../../prompt_templates/pure_llm/rich_pure_llm.md\"\n",
    ").read_text(encoding=\"utf-8\")\n",
    "\n",
    "md(\n",
    "    f\"\"\"<br><font color=\"teal\">{\"=\"*num_eqs} Tailored Prompt {\"=\"*num_eqs}</font><br><br>\"\"\"\n",
    "    + render_jinja_template(\n",
    "        prompt_as_jinja_template,\n",
    "        customer_request_date=\"2024-11-20\",\n",
    "        customer_request_title=\"Not Delivered Order\",\n",
    "        customer_request_body=\"I have a problem with my order which was not delivered.\",\n",
    "        customer_data=json.dumps(\n",
    "            {\n",
    "                \"id\": \"CLT000\",\n",
    "                \"name\": \"Test Customer\",\n",
    "                \"email\": \"test_customer@intellicart.com\",\n",
    "                \"country\": \"France\",\n",
    "                \"orders\": [],\n",
    "            }\n",
    "        ),\n",
    "    )\n",
    "    + \"\\n___\"\n",
    ")"
   ]
  },
  {
   "cell_type": "code",
   "execution_count": null,
   "id": "190e4b05",
   "metadata": {},
   "outputs": [],
   "source": []
  },
  {
   "cell_type": "markdown",
   "id": "61e306a1",
   "metadata": {},
   "source": [
    "### Finally Calling the LLM"
   ]
  },
  {
   "cell_type": "code",
   "execution_count": 32,
   "id": "7273087c",
   "metadata": {},
   "outputs": [],
   "source": [
    "import os\n",
    "from dotenv import load_dotenv\n",
    "from openai import OpenAI\n",
    "from openai.types.chat.chat_completion import ChatCompletion"
   ]
  },
  {
   "cell_type": "code",
   "execution_count": 33,
   "id": "604f295c",
   "metadata": {},
   "outputs": [],
   "source": [
    "load_dotenv()\n",
    "DEFAULT_MODEL_NAME = \"gpt-4o-mini\"\n",
    "client = OpenAI(\n",
    "    api_key=os.getenv(\"OPENAI_API_KEY\"), base_url=os.getenv(\"OPENAI_BASE_URL\") or None\n",
    ")"
   ]
  },
  {
   "cell_type": "code",
   "execution_count": 34,
   "id": "36718c2b",
   "metadata": {},
   "outputs": [],
   "source": [
    "def llm(\n",
    "    content: str, model_name: str | None = DEFAULT_MODEL_NAME, max_tokens: int = 1024\n",
    ") -> ChatCompletion:\n",
    "    model_name = model_name or DEFAULT_MODEL_NAME\n",
    "    return client.chat.completions.create(\n",
    "        model=model_name,\n",
    "        messages=[{\"role\": \"user\", \"content\": content}],\n",
    "        max_tokens=max_tokens,\n",
    "    )"
   ]
  },
  {
   "cell_type": "code",
   "execution_count": 35,
   "id": "7625cb4c",
   "metadata": {},
   "outputs": [],
   "source": [
    "def get_and_display_llm_res(\n",
    "    customer_msg: pd.Series,\n",
    "    customer_data: Customer,\n",
    "    llm_res: ChatCompletion | None = None,\n",
    ") -> ChatCompletion:\n",
    "    if llm_res is None:\n",
    "        rendered_prompt = render_jinja_template(  # Fill in the prompt parameters\n",
    "            prompt_as_jinja_template,\n",
    "            customer_request_date=customer_msg[\"Date\"],\n",
    "            customer_request_title=customer_msg[\"Title\"],\n",
    "            customer_request_body=customer_msg[\"Body\"],\n",
    "            customer_data=customer_data.model_dump_json(indent=0),\n",
    "        )\n",
    "        llm_res = llm(rendered_prompt)\n",
    "\n",
    "    display_msg(customer_msg)\n",
    "    display(\n",
    "        md(\n",
    "            f\"\"\"<font color=\"green\">{\"=\"*num_eqs} LLM Response {\"=\"*num_eqs}</font>  \n",
    "        {llm_res.choices[0].message.content}\n",
    "___\n",
    "<br><br>\"\"\"\n",
    "        )\n",
    "    )\n",
    "\n",
    "    return llm_res"
   ]
  },
  {
   "cell_type": "code",
   "execution_count": 36,
   "id": "fdd41468-cbef-422d-90ce-69498ed006fa",
   "metadata": {},
   "outputs": [
    {
     "data": {
      "text/markdown": [
       "\n",
       "<font color=\"teal\">==================== Total Order Cost ====================</font>  \n",
       "**Request Date:** <font color=\"lightblue\">2024-11-24</font>  \n",
       "**Request Title:** <font color=\"red\">Total Order Cost</font>  \n",
       "\n",
       "Hello,\n",
       "\n",
       "Thanks for the quick delivery. Could you please send me my last Nov order total cost ?\n",
       "\n",
       "Regards,\n",
       "John\n",
       "___\n",
       "<br><br>\n"
      ],
      "text/plain": [
       "<IPython.core.display.Markdown object>"
      ]
     },
     "metadata": {},
     "output_type": "display_data"
    },
    {
     "data": {
      "text/markdown": [
       "<font color=\"green\">==================== LLM Response ====================</font>  \n",
       "        Dear John Doe,\n",
       "\n",
       "Thank you for your message and for acknowledging the quick delivery of your recent order. I'm pleased to provide you with the total cost for your last order placed in October 2024. \n",
       "\n",
       "Your order (Order ID: ORD001) included the following items:\n",
       "\n",
       "1. **Skinny Jeans** - 3 units at $2.00 each = $6.00\n",
       "2. **Galaxy S23 Ultra** - 1 unit at $500.00 = $500.00\n",
       "3. **Pixel 8 Pro** - 4 units at $500.00 each = $2,000.00\n",
       "4. **Amber Essence** - 4 units at $80.00 each = $320.00\n",
       "5. **Torres Sangre de Toro** - 10 units at $15.00 each = $150.00\n",
       "\n",
       "Adding these amounts together gives you a total order cost of **$2,976.00** for your order in October. If you need more details or any further assistance, please do not hesitate to reach out.\n",
       "\n",
       "Thank you for choosing IntelliCart, and I'm here to assist you with any other inquiries you may have.\n",
       "\n",
       "Best regards,  \n",
       "IntelliCart Customer Support Team  \n",
       "Phone: +3366666666  \n",
       "Email: support@intellicart.com\n",
       "___\n",
       "<br><br>"
      ],
      "text/plain": [
       "<IPython.core.display.Markdown object>"
      ]
     },
     "metadata": {},
     "output_type": "display_data"
    }
   ],
   "source": [
    "customer_id = \"CLT001\"\n",
    "customer_data = crm_data[customer_id]\n",
    "\n",
    "\n",
    "customer_msg = msg_df.query(\"CustomerId == @customer_id\").iloc[0]\n",
    "\n",
    "\n",
    "llm_res = get_and_display_llm_res(customer_msg, customer_data=customer_data)"
   ]
  },
  {
   "cell_type": "markdown",
   "id": "f651b3b7",
   "metadata": {},
   "source": [
    "Bingo ! We got a response, and It seems to be quite convincing ! Not only the answer looks very natural and the tone is very friendly but the LLM manages to identify the relevant `order` despite the **partial** details provided by the customer. **Impressive** !\n",
    "\n",
    "Let's try it one time again !"
   ]
  },
  {
   "cell_type": "code",
   "execution_count": 37,
   "id": "2cd732b7",
   "metadata": {},
   "outputs": [
    {
     "data": {
      "text/markdown": [
       "\n",
       "<font color=\"teal\">==================== Delivery Issue ====================</font>  \n",
       "**Request Date:** <font color=\"lightblue\">2024-12-20</font>  \n",
       "**Request Title:** <font color=\"red\">Delivery Issue</font>  \n",
       "\n",
       "Hello,\n",
       "\n",
       "How is it possible that after so many days after my 12 Dec order, I still not having received my due items. Could you please confirm that the items are not delivered to me yet and tell me when that would be the case ?\n",
       "\n",
       "Regards,\n",
       "John\n",
       "___\n",
       "<br><br>\n"
      ],
      "text/plain": [
       "<IPython.core.display.Markdown object>"
      ]
     },
     "metadata": {},
     "output_type": "display_data"
    },
    {
     "data": {
      "text/markdown": [
       "<font color=\"green\">==================== LLM Response ====================</font>  \n",
       "        Dear John Doe,\n",
       "\n",
       "Thank you for reaching out to us regarding the delivery of your recent order dated December 12, 2024. I understand your frustration about not having received your items yet. Upon reviewing your account, I found that the order (Order ID: ORD006) includes several items, such as the Classic T-Shirt, Polo Shirt, Galaxy S23 Ultra, Lavender Bliss, and Penfolds Grange.\n",
       "\n",
       "Unfortunately, the delivery for this order has been cancelled due to unforeseen circumstances. I sincerely apologize for the inconvenience this has caused you. We are currently working with our delivery partners to resolve the issue, and I will ensure that you are updated on the status of your order as soon as possible.\n",
       "\n",
       "In the meantime, if you would like to discuss alternative solutions or require further assistance, please do not hesitate to contact us. You can reach our customer support at +3366666666 or via email at support@intellicart.com. Thank you for your understanding and patience during this time.\n",
       "\n",
       "Best regards,  \n",
       "IntelliCart Customer Support Team  \n",
       "Phone: +3366666666  \n",
       "Email: support@intellicart.com\n",
       "___\n",
       "<br><br>"
      ],
      "text/plain": [
       "<IPython.core.display.Markdown object>"
      ]
     },
     "metadata": {},
     "output_type": "display_data"
    }
   ],
   "source": [
    "customer_id = \"CLT001\"\n",
    "customer_data = crm_data[customer_id]\n",
    "\n",
    "\n",
    "customer_msg = msg_df.query(\"CustomerId == @customer_id\").iloc[1]\n",
    "\n",
    "\n",
    "llm_res = get_and_display_llm_res(customer_msg, customer_data=customer_data)"
   ]
  },
  {
   "cell_type": "markdown",
   "id": "4a71c5eb",
   "metadata": {},
   "source": [
    "Again, we got a very interesting response ! The LLM seems to be able to understand the context of the request and the data provided by the customer.\n",
    "\n",
    "Let's try it one time more !"
   ]
  },
  {
   "cell_type": "code",
   "execution_count": 38,
   "id": "6a64e805",
   "metadata": {},
   "outputs": [
    {
     "data": {
      "text/markdown": [
       "\n",
       "<font color=\"teal\">==================== Delivery Issue ====================</font>  \n",
       "**Request Date:** <font color=\"lightblue\">2024-12-20</font>  \n",
       "**Request Title:** <font color=\"red\">Delivery Issue</font>  \n",
       "\n",
       "Hello,\n",
       "\n",
       "How is it possible that my order containing my beloved PREMIUM AUSTRLIAN SHIRAZ still not delivered after so many days ? Could you please confirm that the items are not delivered to me yet and tell me when that would be the case ?\n",
       "\n",
       "Regards,\n",
       "John\n",
       "___\n",
       "<br><br>\n"
      ],
      "text/plain": [
       "<IPython.core.display.Markdown object>"
      ]
     },
     "metadata": {},
     "output_type": "display_data"
    },
    {
     "data": {
      "text/markdown": [
       "<font color=\"green\">==================== LLM Response ====================</font>  \n",
       "        Dear John Doe,\n",
       "\n",
       "Thank you for your patience and for reaching out regarding your order containing your PREMIUM AUSTRALIAN SHIRAZ. I understand your concerns about the delivery delay, and I'm here to assist you.\n",
       "\n",
       "Your recent order (Order ID: ORD006) placed on December 12, 2024, included five bottles of Penfolds Grange, a beloved choice! Unfortunately, the delivery for this order was cancelled due to an issue that arose on December 12, 2024, which was the planned delivery date. I apologize for any frustration this may have caused.\n",
       "\n",
       "We are currently reviewing the situation to understand what went wrong and will work on resolving it promptly. I suggest we can either process a new delivery attempt or explore other options depending on your preference. Please let me know how you would like to proceed, and I will ensure your request is prioritized.\n",
       "\n",
       "If you have any further questions or need additional assistance, feel free to reach out. Our team is here to help!\n",
       "\n",
       "Best regards,  \n",
       "IntelliCart Customer Support Team  \n",
       "Phone: +3366666666  \n",
       "Email: support@intellicart.com\n",
       "___\n",
       "<br><br>"
      ],
      "text/plain": [
       "<IPython.core.display.Markdown object>"
      ]
     },
     "metadata": {},
     "output_type": "display_data"
    }
   ],
   "source": [
    "customer_id = \"CLT001\"\n",
    "customer_data = crm_data[customer_id]\n",
    "\n",
    "\n",
    "customer_msg = msg_df.query(\"CustomerId == @customer_id\").iloc[2]\n",
    "\n",
    "\n",
    "llm_res = get_and_display_llm_res(customer_msg, customer_data=customer_data)"
   ]
  },
  {
   "cell_type": "markdown",
   "id": "f759bae9",
   "metadata": {},
   "source": [
    "Again, an interesting response ! Let me recall that this one is a little tricky since the only information provided by the customer is the name of a product inside the order, and to make it worse, the product name is mispelled (very realistic, **isn't it?**). The LLM manages to overcome all these glitches and provide a very interesting response."
   ]
  },
  {
   "cell_type": "code",
   "execution_count": null,
   "id": "df9835a0",
   "metadata": {},
   "outputs": [],
   "source": []
  },
  {
   "cell_type": "markdown",
   "id": "42dc5f33",
   "metadata": {},
   "source": [
    "### Conclusion and Next Steps"
   ]
  },
  {
   "cell_type": "markdown",
   "id": "d1969a33",
   "metadata": {},
   "source": [
    "In this tutorial, we've explored how to leverage the power of a single Large Language Model (LLM) to (partially) automate customer care processes for an e-commerce company. By analyzing customer requests, we crafted a tailored prompt that combines both the request and relevant customer data. Thanks to the **Pydantic** library, we were able to structure this customer data in a streamlined, bottom-up approach—packing everything into a single, compact object. This setup is perfect for querying LLMs.\n",
    "\n",
    "What’s truly exciting is that the LLM was able to generate responses that felt natural and relevant. This ability holds immense potential to not only automate but also support customer care teams in handling inquiries with greater efficiency and accuracy.\n",
    "\n",
    "Now, there are at least two key enhancements to take our solution to the next level:\n",
    "\n",
    "1. **Enhancing the One-Shot Approach**  \n",
    "By refining our current setup, we can make it even more powerful. Here’s how:\n",
    "\n",
    "   - **Advanced Prompt Engineering**: Experiment with techniques like:\n",
    "     - **Chain of Thoughts** to improve reasoning and accuracy.\n",
    "     - **Few-Shot Learning** to provide better context and examples to the model.\n",
    "  \n",
    "   - **Context Refinement**: Provide richer context to the LLM by integrating detailed data schemas, which help the model understand the nuances of customer information.\n",
    "\n",
    "   - **Exploring Different LLMs**: Test various LLMs to see which best fits the needs of the business and improves the quality of responses.\n",
    "\n",
    "   - **Fine-Tuning**: Fine-tune the LLM using specific customer data to further personalize the responses (though this should be reserved for scenarios where it’s necessary).\n",
    "\n",
    "1. **Shifting to a Multi-Step Approach**  \n",
    "For a more sophisticated and scalable solution, consider adopting a **multi-step workflow** or **LLM Agents**. This method breaks down tasks into distinct steps, making the process more organized and adaptable. By leveraging workflows or agents, we can create dynamic systems that handle more complex customer interactions, evolving as they learn from ongoing inputs.\n",
    "\n",
    "With these improvements, we’re looking at an exciting future where AI not only supports customer care teams but enhances the entire experience for both customers and businesses alike.\n",
    "\n",
    "Keep in mind though that while the one-shot approach offers simplicity and has demonstrated impressive results for our use case, it comes with **significant limitations**—particularly when dealing with extensive customer histories. In fact, this method relies on feeding all customer information into the LLM’s context, which **can quickly exhaust token limits**, making it **inefficient for long interactions**. Furthermore, this approach **relinquishes control over the LLM**, which becomes solely responsible for processing and generating responses.\n",
    "\n",
    "**This lack of modularity complicates evaluation**, as the output is a single, subjective result that’s difficult to analyze or refine (though evaluation isn’t the primary focus here). A more effective alternative would be to adopt a system with streamlined components—such as dedicated data extractors—that simplifies both the process and its assessment. Breaking the task into smaller, manageable pieces not only improves efficiency but also ensures greater control over the system’s performance.\n",
    "\n",
    "In the next tutorial, we will see how to use a LLM to automate customer care in a more advanced way, using a multi-steps LLM workflow. This will allow the LLM to handle more complex customer inquiries with precision. This approach, not only would hopefully enhance response quality but also gives us greater control over critical elements such as data extraction, validation, and even tone management.\n",
    "\n",
    "The last part of this tutorial series will focus on **LLM Agents** that can be used to create more complex workflows.\n",
    "\n",
    "In the final chapter of this series, we'll unlock the power of **LLM Agents**, which will empower you to design and implement even more advanced and dynamic workflows for better customer service.\n",
    "\n",
    "Stay tuned!\n",
    "\n",
    "<font color=\"teal\" size=\"6rem\">Kossi NEROMA</font> <font color=\"lightblue\" size=\"3rem\">Sr Data Scientist</font>"
   ]
  },
  {
   "cell_type": "markdown",
   "id": "f84e6824",
   "metadata": {},
   "source": []
  }
 ],
 "metadata": {
  "kernelspec": {
   "display_name": "public_agcc",
   "language": "python",
   "name": "python3"
  },
  "language_info": {
   "codemirror_mode": {
    "name": "ipython",
    "version": 3
   },
   "file_extension": ".py",
   "mimetype": "text/x-python",
   "name": "python",
   "nbconvert_exporter": "python",
   "pygments_lexer": "ipython3",
   "version": "3.11.11"
  }
 },
 "nbformat": 4,
 "nbformat_minor": 5
}
